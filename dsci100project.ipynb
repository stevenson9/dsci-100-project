{
 "cells": [
  {
   "cell_type": "markdown",
   "id": "0b840c5e-2b31-4f68-b112-55c46f0126ed",
   "metadata": {},
   "source": [
    "ffff\n"
   ]
  },
  {
   "cell_type": "code",
   "execution_count": null,
   "id": "a276212c-1a60-451c-b034-9de74a79e69f",
   "metadata": {},
   "outputs": [],
   "source": []
  }
 ],
 "metadata": {
  "kernelspec": {
   "display_name": "R",
   "language": "R",
   "name": "ir"
  },
  "language_info": {
   "codemirror_mode": "r",
   "file_extension": ".r",
   "mimetype": "text/x-r-source",
   "name": "R",
   "pygments_lexer": "r",
   "version": "4.1.3"
  }
 },
 "nbformat": 4,
 "nbformat_minor": 5
}
